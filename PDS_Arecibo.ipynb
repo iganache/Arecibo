{
 "cells": [
  {
   "cell_type": "code",
   "execution_count": 4,
   "metadata": {},
   "outputs": [],
   "source": [
    "import os\n",
    "import numpy as np\n",
    "import matplotlib.pyplot as plt\n",
    "import csv\n",
    "import rasterio\n",
    "import xml.etree.ElementTree as ET"
   ]
  },
  {
   "cell_type": "code",
   "execution_count": 6,
   "metadata": {},
   "outputs": [],
   "source": [
    "## parse the XML label files\n",
    "tree = ET.parse('data2020/venus_2020_north_ocp.xml')\n",
    "root = tree.getroot()"
   ]
  },
  {
   "cell_type": "code",
   "execution_count": 71,
   "metadata": {},
   "outputs": [
    {
     "name": "stdout",
     "output_type": "stream",
     "text": [
      "102\n"
     ]
    }
   ],
   "source": [
    "## doesn't work. fml bruce. thanks for using same tags for multiple things\n",
    "label_dict = {}\n",
    "\n",
    "\n",
    "for element in root.iter():\n",
    "    label_dict[element.tag.split('}')[1]] = element.text\n",
    "#         print(element.tag.split('}')[1] , element.attrib,element.text)\n",
    "    if element.attrib != {}:\n",
    "#             print(element.items())\n",
    "        for item in element.items():\n",
    "            label_dict[element.tag.split('}')[1]+\"_\"+item[0]] = item[1]\n",
    "#                 print(element.tag.split('}')[1]+\"_\"+item[0])\n",
    "#                 print(element.tag.split('}')[1]+\"_\"+item[1])\n",
    "#                 print(item)\n",
    "#             attrib_keys = element.keys()\n",
    "#             attrib_values = element.values()\n",
    "#             if len(attrib_keys) == 1:\n",
    "#                 print(element.tag.split('}')[1]+\"_\"+attrib_keys[0])\n",
    "\n",
    "print(len(label_dict))"
   ]
  },
  {
   "cell_type": "code",
   "execution_count": 20,
   "metadata": {},
   "outputs": [],
   "source": [
    "lines = 12000\n",
    "samples = 20000\n",
    "filename = 'data2020/venus_2020_north_inc.img'\n",
    "datatype = np.float32\n",
    "f = open(filename, 'rb')\n",
    "data_raw = np.fromfile(f, datatype)\n",
    "data = data_raw.reshape(lines, samples)"
   ]
  },
  {
   "cell_type": "code",
   "execution_count": 25,
   "metadata": {},
   "outputs": [
    {
     "name": "stdout",
     "output_type": "stream",
     "text": [
      "90.0\n"
     ]
    }
   ],
   "source": [
    "print(np.max(data))"
   ]
  },
  {
   "cell_type": "code",
   "execution_count": 27,
   "metadata": {},
   "outputs": [],
   "source": [
    "outfile = \"data2020/north_inc.tif\"\n",
    "outds = rasterio.open(outfile, 'w', driver='GTiff', \n",
    "                  height = lines, \n",
    "                  width = samples, \n",
    "                  count=1, \n",
    "                  crs = None, \n",
    "                  dtype = np.float32,\n",
    "                  transform = None,\n",
    "                  compress='lzw',\n",
    "                  nodata = 9999)\n",
    "outds.write(data, 1)"
   ]
  },
  {
   "cell_type": "code",
   "execution_count": 56,
   "metadata": {},
   "outputs": [
    {
     "name": "stdout",
     "output_type": "stream",
     "text": [
      "{'a': 'abc', 'd': 'def'}\n"
     ]
    }
   ],
   "source": [
    "act = {}\n",
    "act['a'] = \"abc\"\n",
    "act['d'] = \"def\"\n",
    "print(act)"
   ]
  },
  {
   "cell_type": "code",
   "execution_count": null,
   "metadata": {},
   "outputs": [],
   "source": []
  }
 ],
 "metadata": {
  "kernelspec": {
   "display_name": "radar",
   "language": "python",
   "name": "radar"
  },
  "language_info": {
   "codemirror_mode": {
    "name": "ipython",
    "version": 3
   },
   "file_extension": ".py",
   "mimetype": "text/x-python",
   "name": "python",
   "nbconvert_exporter": "python",
   "pygments_lexer": "ipython3",
   "version": "3.7.5"
  }
 },
 "nbformat": 4,
 "nbformat_minor": 4
}
