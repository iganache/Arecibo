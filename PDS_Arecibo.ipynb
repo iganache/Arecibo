{
 "cells": [
  {
   "cell_type": "code",
   "execution_count": 48,
   "metadata": {},
   "outputs": [],
   "source": [
    "import os\n",
    "import numpy as np\n",
    "import matplotlib.pyplot as plt\n",
    "import csv\n",
    "import rasterio\n",
    "import xml.etree.ElementTree as ET\n",
    "import pds4_tools\n",
    "\n",
    "from scipy import signal\n",
    "from scipy.ndimage import gaussian_filter"
   ]
  },
  {
   "cell_type": "code",
   "execution_count": 57,
   "metadata": {},
   "outputs": [
    {
     "name": "stdout",
     "output_type": "stream",
     "text": [
      "Processing label: data2017/venus_2017_north_ocp.xml\n",
      "Now processing a Array_2D_Map structure: image_object\n",
      "0   Array_2D_Map  'image_object'  2 axes, 12000 x 20000\n"
     ]
    }
   ],
   "source": [
    "structures = pds4_tools.read('data2017/venus_2017_north_ocp.xml')\n",
    "structures.info()\n",
    "data = structures[0].data\n",
    "dtype = data.dtype\n",
    "lines = data.shape[0]\n",
    "samples = data.shape[1]"
   ]
  },
  {
   "cell_type": "code",
   "execution_count": 6,
   "metadata": {},
   "outputs": [],
   "source": [
    "# ## parse the XML label files\n",
    "# tree = ET.parse('data2020/venus_2020_north_ocp.xml')\n",
    "# root = tree.getroot()\n",
    "\n",
    "# ## doesn't work. fml bruce. thanks for using same tags for multiple things\n",
    "# label_dict = {}\n",
    "\n",
    "\n",
    "# for element in root.iter():\n",
    "#     label_dict[element.tag.split('}')[1]] = element.text\n",
    "# #         print(element.tag.split('}')[1] , element.attrib,element.text)\n",
    "#     if element.attrib != {}:\n",
    "# #             print(element.items())\n",
    "#         for item in element.items():\n",
    "#             label_dict[element.tag.split('}')[1]+\"_\"+item[0]] = item[1]\n",
    "# #                 print(element.tag.split('}')[1]+\"_\"+item[0])\n",
    "# #                 print(element.tag.split('}')[1]+\"_\"+item[1])\n",
    "# #                 print(item)\n",
    "# #             attrib_keys = element.keys()\n",
    "# #             attrib_values = element.values()\n",
    "# #             if len(attrib_keys) == 1:\n",
    "# #                 print(element.tag.split('}')[1]+\"_\"+attrib_keys[0])"
   ]
  },
  {
   "cell_type": "code",
   "execution_count": 20,
   "metadata": {},
   "outputs": [],
   "source": [
    "## Reading Arecibo images without PDS4\n",
    "# lines = 12000\n",
    "# samples = 20000\n",
    "# filename = 'data2020/venus_2020_north_inc.img'\n",
    "# datatype = np.float32\n",
    "# f = open(filename, 'rb')\n",
    "# data_raw = np.fromfile(f, datatype)\n",
    "# data = data_raw.reshape(lines, samples)"
   ]
  },
  {
   "cell_type": "code",
   "execution_count": null,
   "metadata": {},
   "outputs": [],
   "source": [
    "## transforming Arecibo data\n",
    "WKT_string = PROJCS[\"Venus_Sinusoidal\",\n",
    "    GEOGCS[\"Venus 2000\",\n",
    "        DATUM[\"D_Venus_2000\",\n",
    "            SPHEROID[\"Venus_2000_IAU_IAG\",6051800.0,0.0]],\n",
    "        PRIMEM[\"Greenwich\",0],\n",
    "        UNIT[\"Decimal_Degree\",0.0174532925199433]],\n",
    "    PROJECTION[\"Equidistant_Cylindrical\"],\n",
    "    PARAMETER[\"False_Easting\",0],\n",
    "    PARAMETER[\"False_Northing\",0],\n",
    "    PARAMETER[\"Central_Meridian\",335.0],\n",
    "    PARAMETER[\"Standard_Parallel_1\",0],\n",
    "    UNIT[\"Meter\",1]]\n",
    "transform = rasterio.transform.from_bounds(254.256, south, east, north, width, height)\n",
    "transform = rasterio.transform.from_bounds(254.256, -25.0, 37.213, 80.845, samples, lines)"
   ]
  },
  {
   "cell_type": "code",
   "execution_count": 58,
   "metadata": {},
   "outputs": [],
   "source": [
    "outfile = \"data2017/north_ocp.tif\"\n",
    "outds = rasterio.open(outfile, 'w', driver='GTiff', \n",
    "                  height = lines, \n",
    "                  width = samples, \n",
    "                  count=1, \n",
    "                  crs = None, \n",
    "                  dtype = dtype,\n",
    "                  transform = None,\n",
    "                  compress='lzw',\n",
    "                  nodata = 9999)\n",
    "outds.write(data, 1)\n",
    "outds.close()"
   ]
  },
  {
   "cell_type": "code",
   "execution_count": 59,
   "metadata": {},
   "outputs": [],
   "source": [
    "avgdata = np.zeros_like(data)\n",
    "gaussian_filter(data, sigma=1, output=avgdata)\n",
    "outfile_gau = \"data2017/north_ocp_sigma1.tif\"\n",
    "outds_gau = rasterio.open(outfile_gau, 'w', driver='GTiff', \n",
    "                  height = lines, \n",
    "                  width = samples, \n",
    "                  count=1, \n",
    "                  crs = None, \n",
    "                  dtype = dtype,\n",
    "                  transform = None,\n",
    "                  compress='lzw',\n",
    "                  nodata = 9999)\n",
    "outds_gau.write(avgdata, 1)\n",
    "outds_gau.close()"
   ]
  },
  {
   "cell_type": "code",
   "execution_count": null,
   "metadata": {},
   "outputs": [],
   "source": []
  }
 ],
 "metadata": {
  "kernelspec": {
   "display_name": "radar",
   "language": "python",
   "name": "radar"
  },
  "language_info": {
   "codemirror_mode": {
    "name": "ipython",
    "version": 3
   },
   "file_extension": ".py",
   "mimetype": "text/x-python",
   "name": "python",
   "nbconvert_exporter": "python",
   "pygments_lexer": "ipython3",
   "version": "3.7.5"
  }
 },
 "nbformat": 4,
 "nbformat_minor": 4
}
