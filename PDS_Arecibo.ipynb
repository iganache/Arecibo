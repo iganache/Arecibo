{
 "cells": [
  {
   "cell_type": "code",
   "execution_count": 1,
   "metadata": {},
   "outputs": [],
   "source": [
    "import numpy as np\n",
    "import matplotlib.pyplot as plt\n",
    "import rasterio\n",
    "from rasterio.transform import Affine\n",
    "\n",
    "import pds4_tools\n",
    "\n",
    "from scipy import signal\n",
    "from scipy.ndimage import gaussian_filter"
   ]
  },
  {
   "cell_type": "code",
   "execution_count": 2,
   "metadata": {},
   "outputs": [],
   "source": [
    "def pds2numpy(file):\n",
    "    data = pds4_tools.read(file)[0].data\n",
    "    return data\n",
    "\n",
    "\n",
    "\n",
    "def get_CRSinfo(file):\n",
    "    structures = pds4_tools.read(file)\n",
    "    label = structures.label\n",
    "\n",
    "    ## upper left corner coordinates in meters\n",
    "    ulx = label.findall(\".//cart:upperleft_corner_x\")[0].text\n",
    "    uly = label.findall(\".//cart:upperleft_corner_y\")[0].text\n",
    "\n",
    "    ## pixel resolution in m/pix\n",
    "    pix_res_x = label.findall(\".//cart:pixel_resolution_x\")[0].text\n",
    "    pix_res_y = label.findall(\".//cart:pixel_resolution_y\")[0].text\n",
    "\n",
    "    ## projection info\n",
    "    map_proj_name = label.findall(\".//cart:map_projection_name\")[0].text\n",
    "    central_meridian = label.findall(\".//cart:longitude_of_central_meridian\")[0].text\n",
    "    latitude_type = label.findall(\".//cart:latitude_type\")[0].text\n",
    "    a_radius = label.findall(\".//cart:a_axis_radius\")[0].text.split(\".\")[0] + \"000\"       ## rdaius in xml in km; converting to m\n",
    "    b_radius = label.findall(\".//cart:b_axis_radius\")[0].text.split(\".\")[0] + \"000\"\n",
    "    \n",
    "    proj4 = \"+proj=sinu +lon_0=\" + central_meridian + \" +x_0=0 +y_0=0 +a=\"+ a_radius +\" +b=\"+ b_radius + \" +units=m +no_defs\"\n",
    "    transform = Affine(float(pix_res_x), 0, float(ulx), 0, -float(pix_res_y), float(uly))\n",
    "    \n",
    "    return proj4, transform\n",
    "\n",
    "\n",
    "\n",
    "def correct_poweroffset(data, year):\n",
    "    offset = {\"1988\": 4.2, \"2012\": 2.6, \"2015\": 1.6, \"2017\": 0, \"2020\": 4.7}\n",
    "    corr_data = data + offset[str(year)]\n",
    "    return corr_data\n",
    "\n",
    "\n",
    "\n",
    "def correct_incangle(data, pol, incifile):\n",
    "    inc = pds4_tools.read(incifile)[0].data\n",
    "    \n",
    "    if pol == \"ocp\":\n",
    "        bsc_norm = 35.34 - (1.41 * inc) + (0.021 * inc**2) - (0.00011 * inc**3)\n",
    "    elif pol == \"scp\":\n",
    "        bsc_norm =  np.cos(np.deg2rad(inc))\n",
    "    else:\n",
    "        print(\"check polarization and set the right value for the variabl pol\")\n",
    "\n",
    "    data_inc_norm = np.zeros_like(data)\n",
    "    bsc_norm[bsc_norm == 0.0] = np.min(bsc_norm[bsc_norm>0])     ## avoiding division by zero\n",
    "    data_inc_norm = data/ bsc_norm\n",
    "    \n",
    "    return data_inc_norm\n",
    "\n",
    "\n",
    "def calculate_cpr(ocp, scp):\n",
    "    \n",
    "    ocp = np.round(ocp, 6)          ## Rounding scp and ocp to 6 decimal places\n",
    "    scp = np.round(scp, 6)\n",
    "   \n",
    "    ocp[ocp == 0.0] = np.min(ocp[ocp>0.0])             ## avoiding division by zero\n",
    "    cpr = scp / ocp\n",
    "    return cpr\n",
    "    \n",
    "    \n",
    "def gaussian(data, stdev=1):\n",
    "    data_filt = np.zeros_like(data)\n",
    "    gaussian_filter(data, sigma=stdev, output=data_filt)\n",
    "    return data_filt\n",
    "    \n",
    "    \n",
    "def numpy2tif(outfile, data, crs, transform, nodata=9999):\n",
    "    outds = rasterio.open(outfile, 'w', driver='GTiff', \n",
    "                  height = data.shape[0], \n",
    "                  width = data.shape[1], \n",
    "                  count=1, \n",
    "                  crs = crs, \n",
    "                  dtype = data.dtype,\n",
    "                  transform = transform,\n",
    "                  compress='lzw',\n",
    "                  nodata = nodata)\n",
    "    outds.write(data, 1)\n",
    "    outds.close()"
   ]
  },
  {
   "cell_type": "markdown",
   "metadata": {},
   "source": [
    "### 1. Reading PDS data using PDS4 tools"
   ]
  },
  {
   "cell_type": "code",
   "execution_count": 3,
   "metadata": {},
   "outputs": [],
   "source": [
    "in_scp = \"data2015/venus_2015_north_scp.xml\"\n",
    "in_ocp = \"data2015/venus_2015_north_ocp.xml\"\n",
    "incifile = \"data2015/venus_2015_north_inc.xml\"\n",
    "year = 2017\n",
    "\n",
    "# out_scp = \"data2015/2015_north_scp_filt.tif\" \n",
    "# out_ocp = \"data2015/2015_north_ocp_filt.tif\"\n",
    "out_cpr = \"data2015/2015_north_cpr_maxwell.tif\"\n",
    "# out_inci = \"data2015/venus_2015_north_inc.tif\""
   ]
  },
  {
   "cell_type": "code",
   "execution_count": 4,
   "metadata": {},
   "outputs": [
    {
     "name": "stdout",
     "output_type": "stream",
     "text": [
      "Processing label: data2015/venus_2015_north_scp.xml\n",
      "Now processing a Array_2D_Map structure: image_object\n",
      "Processing label: data2015/venus_2015_north_ocp.xml\n",
      "Now processing a Array_2D_Map structure: image_object\n"
     ]
    }
   ],
   "source": [
    "scp_arr = pds2numpy(in_scp)\n",
    "ocp_arr = pds2numpy(in_ocp)"
   ]
  },
  {
   "cell_type": "markdown",
   "metadata": {},
   "source": [
    "### 2. Coordinate reference system\n",
    "Affine transform arguments in rasterio\n",
    "If you're coming from the matrix algebra perspective, you can ignore the constants in the affine matrix and refer to the the six paramters as a, b, c, d, e, f. This is the ordering and notation used by the affine Python library.\n",
    "\n",
    "    a = width of a pixel\n",
    "    b = row rotation (typically zero)\n",
    "    c = x-coordinate of the upper-left corner of the upper-left pixel\n",
    "    d = column rotation (typically zero)\n",
    "    e = height of a pixel (typically negative)\n",
    "    f = y-coordinate of the of the upper-left corner of the upper-left pixel\n",
    "\n",
    "\n",
    "<b> Note:</b>  GDAL provides support for PDS4. <i> gdal_translate <label.xml> <outfile.tif> </i> should automatically read in PDS files. "
   ]
  },
  {
   "cell_type": "code",
   "execution_count": 5,
   "metadata": {},
   "outputs": [
    {
     "name": "stdout",
     "output_type": "stream",
     "text": [
      "Processing label: data2015/venus_2015_north_ocp.xml\n",
      "Now processing a Array_2D_Map structure: image_object\n"
     ]
    }
   ],
   "source": [
    "proj, transform = get_CRSinfo(in_ocp)"
   ]
  },
  {
   "cell_type": "code",
   "execution_count": 6,
   "metadata": {},
   "outputs": [],
   "source": [
    "## maxwell CPR\n",
    "cpr_arr = np.zeros_like(ocp_arr)\n",
    "min_SNR = 1\n",
    "cpr_arr[scp_arr>min_SNR] = ocp_arr[scp_arr>min_SNR] / scp_arr[scp_arr>min_SNR]\n",
    "cpr_arr[cpr_arr<0.0] = 0.0\n",
    "cpr_arr[cpr_arr>10.0] = 0.0\n",
    "numpy2tif(out_cpr, cpr_arr, proj, transform, nodata=0)"
   ]
  },
  {
   "cell_type": "code",
   "execution_count": 7,
   "metadata": {},
   "outputs": [],
   "source": [
    "cpr_filt = gaussian(cpr_arr, stdev=1)\n",
    "numpy2tif(\"data2015/2015_north_cpr_filt_maxwell.tif\", cpr_filt, proj, transform, nodata=0)"
   ]
  },
  {
   "cell_type": "markdown",
   "metadata": {},
   "source": [
    "### 3. Eliminating offset in power between data from different year.\n",
    "Use values from \"Cal factor\" column in table 2 of the User Guide (https://pds-geosciences.wustl.edu/venus/urn-nasa-pds-venus_radar_level2/document/venus_radar_maps_user_guide.pdf). "
   ]
  },
  {
   "cell_type": "code",
   "execution_count": 8,
   "metadata": {},
   "outputs": [],
   "source": [
    "ocp_offset_corr = correct_poweroffset(ocp_arr, year)\n",
    "scp_offset_corr = correct_poweroffset(scp_arr, year)"
   ]
  },
  {
   "cell_type": "markdown",
   "metadata": {},
   "source": [
    "### 4. Correcting for incidence angle\n",
    "Incidence angle effects are removed by normalizing the data using \n",
    "1. equation in page 5 of tthe user guide for OCP data: 𝑃𝑑𝐵(𝜙) =35.34 − 1.41𝜙 + 0.021𝜙2 − 0.00011𝜙3, and \n",
    "2. cosine of the incidence angle for the SCP data.  "
   ]
  },
  {
   "cell_type": "code",
   "execution_count": 9,
   "metadata": {},
   "outputs": [
    {
     "name": "stdout",
     "output_type": "stream",
     "text": [
      "Processing label: data2015/venus_2015_north_inc.xml\n",
      "Now processing a Array_2D_Map structure: image_object\n",
      "Processing label: data2015/venus_2015_north_inc.xml\n",
      "Now processing a Array_2D_Map structure: image_object\n"
     ]
    }
   ],
   "source": [
    "ocp_inc_norm = correct_incangle(ocp_offset_corr, \"ocp\", incifile)\n",
    "scp_inc_norm = correct_incangle(scp_offset_corr, \"scp\", incifile)"
   ]
  },
  {
   "cell_type": "markdown",
   "metadata": {},
   "source": [
    "### 5. Using a Gaussian filter to increase SNR"
   ]
  },
  {
   "cell_type": "code",
   "execution_count": 10,
   "metadata": {},
   "outputs": [],
   "source": [
    "## maxwell CPR\n",
    "cpr_arr = np.zeros_like(ocp_inc_norm)\n",
    "min_SNR = 1\n",
    "cpr_arr[scp_inc_norm>min_SNR] = ocp_inc_norm[scp_inc_norm>min_SNR] / scp_inc_norm[scp_inc_norm>min_SNR]\n",
    "cpr_arr[cpr_arr<0.0] = 0.0\n",
    "cpr_arr[cpr_arr>10.0] = 0.0\n",
    "# numpy2tif(out_cpr, cpr_arr, proj, transform, nodata=0)\n",
    "\n",
    "cpr_filt = gaussian(cpr_arr, stdev=1)\n",
    "numpy2tif(\"data2015/2015_north_cpr_incnorm_filt_maxwell.tif\", cpr_filt, proj, transform, nodata=0)"
   ]
  },
  {
   "cell_type": "code",
   "execution_count": 11,
   "metadata": {},
   "outputs": [],
   "source": [
    "ocp_filt = gaussian(ocp_offset_corr, stdev=1)\n",
    "scp_filt = gaussian(scp_offset_corr, stdev=1)"
   ]
  },
  {
   "cell_type": "markdown",
   "metadata": {},
   "source": [
    "### CPR calculation (optional)\n",
    "Use data that has not been normalized for incidence angle"
   ]
  },
  {
   "cell_type": "code",
   "execution_count": 12,
   "metadata": {},
   "outputs": [],
   "source": [
    "cpr_filt = np.zeros_like(ocp_filt)\n",
    "min_SNR = 1\n",
    "cpr_filt[scp_inc_norm>min_SNR] = ocp_inc_norm[scp_inc_norm>min_SNR] / scp_inc_norm[scp_inc_norm>min_SNR]\n",
    "cpr_filt[cpr_filt<0.0] = 0.0\n",
    "cpr_filt[cpr_filt>10.0] = 0.0"
   ]
  },
  {
   "cell_type": "markdown",
   "metadata": {},
   "source": [
    "### 6. Writing output data to file"
   ]
  },
  {
   "cell_type": "code",
   "execution_count": 13,
   "metadata": {},
   "outputs": [],
   "source": [
    "numpy2tif(out_ocp, ocp_filt, proj, transform, nodata=0)\n",
    "numpy2tif(out_scp, scp_filt, proj, transform, nodata=0)\n",
    "numpy2tif(out_cpr, cpr_filt, proj, transform, nodata=0)"
   ]
  },
  {
   "cell_type": "markdown",
   "metadata": {},
   "source": [
    "### Incidence angle files"
   ]
  },
  {
   "cell_type": "code",
   "execution_count": 13,
   "metadata": {},
   "outputs": [
    {
     "name": "stdout",
     "output_type": "stream",
     "text": [
      "Processing label: data2015/venus_2015_north_inc.xml\n",
      "Now processing a Array_2D_Map structure: image_object\n"
     ]
    }
   ],
   "source": [
    "inc_arr = pds2numpy(incifile)\n",
    "numpy2tif(out_inci, inc_arr, proj, transform, nodata = 0.0)"
   ]
  },
  {
   "cell_type": "markdown",
   "metadata": {},
   "source": []
  }
 ],
 "metadata": {
  "kernelspec": {
   "display_name": "radar",
   "language": "python",
   "name": "radar"
  },
  "language_info": {
   "codemirror_mode": {
    "name": "ipython",
    "version": 3
   },
   "file_extension": ".py",
   "mimetype": "text/x-python",
   "name": "python",
   "nbconvert_exporter": "python",
   "pygments_lexer": "ipython3",
   "version": "3.7.5"
  }
 },
 "nbformat": 4,
 "nbformat_minor": 4
}
