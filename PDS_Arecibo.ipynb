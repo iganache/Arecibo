{
 "cells": [
  {
   "cell_type": "code",
   "execution_count": null,
   "metadata": {},
   "outputs": [],
   "source": [
    "import numpy as np\n",
    "import matplotlib.pyplot as plt\n",
    "import rasterio\n",
    "from rasterio.transform import Affine\n",
    "\n",
    "import pds4_tools\n",
    "\n",
    "from scipy import signal\n",
    "from scipy.ndimage import gaussian_filter"
   ]
  },
  {
   "cell_type": "code",
   "execution_count": null,
   "metadata": {},
   "outputs": [],
   "source": [
    "structures = pds4_tools.read('data2015/venus_2015_north_scp.xml')\n",
    "structures.info()\n",
    "data = structures[0].data\n",
    "dtype = data.dtype\n",
    "lines = data.shape[0]\n",
    "samples = data.shape[1]"
   ]
  },
  {
   "cell_type": "code",
   "execution_count": null,
   "metadata": {},
   "outputs": [],
   "source": [
    "metadata = structures[0].meta_data                 ## currently not using metadata\n",
    "label = structures.label\n",
    "\n",
    "## upper left corner coordinates in meters\n",
    "ulx = label.findall(\".//cart:upperleft_corner_x\")[0].text\n",
    "uly = label.findall(\".//cart:upperleft_corner_y\")[0].text\n",
    "\n",
    "## pixel resolution in m/pix\n",
    "pix_res_x = label.findall(\".//cart:pixel_resolution_x\")[0].text\n",
    "pix_res_y = label.findall(\".//cart:pixel_resolution_y\")[0].text\n",
    "\n",
    "\n",
    "## projection info\n",
    "map_proj_name = label.findall(\".//cart:map_projection_name\")[0].text\n",
    "central_meridian = label.findall(\".//cart:longitude_of_central_meridian\")[0].text\n",
    "latitude_type = label.findall(\".//cart:latitude_type\")[0].text\n",
    "a_radius = label.findall(\".//cart:a_axis_radius\")[0].text.split(\".\")[0] + \"000\"       ## rdaius in xml in km; converting to m\n",
    "b_radius = label.findall(\".//cart:b_axis_radius\")[0].text.split(\".\")[0] + \"000\"\n",
    "\n",
    "## accessing as a dictionary - currently not used\n",
    "# label_dict = label.to_dict()\n",
    "# cart_dict = label_dict['Product_Observational']['Observation_Area']['Discipline_Area']['cart:Cartography']"
   ]
  },
  {
   "cell_type": "code",
   "execution_count": null,
   "metadata": {},
   "outputs": [],
   "source": [
    "## coordinate transformation\n",
    "proj4 = \"+proj=sinu +lon_0=\" + central_meridian + \" +x_0=0 +y_0=0 +a=\"+ a_radius +\" +b=\"+ b_radius + \" +units=m +no_defs\"\n",
    "transform = Affine(float(pix_res_x), 0, float(ulx), 0, -float(pix_res_y), float(uly))"
   ]
  },
  {
   "cell_type": "markdown",
   "metadata": {},
   "source": [
    "### Affine transform arguments in rasterio\n",
    "If you're coming from the matrix algebra perspective, you can ignore the constants in the affine matrix and refer to the the six paramters as a, b, c, d, e, f. This is the ordering and notation used by the affine Python library.\n",
    "\n",
    "    a = width of a pixel\n",
    "    b = row rotation (typically zero)\n",
    "    c = x-coordinate of the upper-left corner of the upper-left pixel\n",
    "    d = column rotation (typically zero)\n",
    "    e = height of a pixel (typically negative)\n",
    "    f = y-coordinate of the of the upper-left corner of the upper-left pixel\n"
   ]
  },
  {
   "cell_type": "code",
   "execution_count": null,
   "metadata": {},
   "outputs": [],
   "source": [
    "outfile = \"data2015/north_scp_sinu.tif\"\n",
    "outds = rasterio.open(outfile, 'w', driver='GTiff', \n",
    "                  height = lines, \n",
    "                  width = samples, \n",
    "                  count=1, \n",
    "                  crs = proj4, \n",
    "                  dtype = dtype,\n",
    "                  transform = transform,\n",
    "                  compress='lzw',\n",
    "                  nodata = 9999)\n",
    "outds.write(data, 1)\n",
    "outds.close()"
   ]
  },
  {
   "cell_type": "code",
   "execution_count": null,
   "metadata": {},
   "outputs": [],
   "source": [
    "avgdata = np.zeros_like(data)\n",
    "gaussian_filter(data, sigma=1, output=avgdata)\n",
    "outfile_gau = \"data2015/north_scp_sinu_sigma1.tif\"\n",
    "outds_gau = rasterio.open(outfile_gau, 'w', driver='GTiff', \n",
    "                  height = lines, \n",
    "                  width = samples, \n",
    "                  count=1, \n",
    "                  crs = proj4, \n",
    "                  dtype = dtype,\n",
    "                  transform = transform,\n",
    "                  compress='lzw',\n",
    "                  nodata = 9999)\n",
    "outds_gau.write(avgdata, 1)\n",
    "outds_gau.close()"
   ]
  },
  {
   "cell_type": "code",
   "execution_count": null,
   "metadata": {},
   "outputs": [],
   "source": [
    "## Reading Arecibo images without PDS4\n",
    "# lines = 12000\n",
    "# samples = 20000\n",
    "# filename = 'data2020/venus_2020_north_inc.img'\n",
    "# datatype = np.float32\n",
    "# f = open(filename, 'rb')\n",
    "# data_raw = np.fromfile(f, datatype)\n",
    "# data = data_raw.reshape(lines, samples)"
   ]
  },
  {
   "cell_type": "code",
   "execution_count": null,
   "metadata": {},
   "outputs": [],
   "source": []
  }
 ],
 "metadata": {
  "kernelspec": {
   "display_name": "radar",
   "language": "python",
   "name": "radar"
  },
  "language_info": {
   "codemirror_mode": {
    "name": "ipython",
    "version": 3
   },
   "file_extension": ".py",
   "mimetype": "text/x-python",
   "name": "python",
   "nbconvert_exporter": "python",
   "pygments_lexer": "ipython3",
   "version": "3.7.5"
  }
 },
 "nbformat": 4,
 "nbformat_minor": 4
}
