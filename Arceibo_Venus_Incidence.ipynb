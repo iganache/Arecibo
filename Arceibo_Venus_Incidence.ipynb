{
 "cells": [
  {
   "cell_type": "code",
   "execution_count": 31,
   "metadata": {},
   "outputs": [],
   "source": [
    "import numpy as np\n",
    "import matplotlib.pyplot as plt"
   ]
  },
  {
   "cell_type": "code",
   "execution_count": 32,
   "metadata": {},
   "outputs": [],
   "source": [
    "# # distances\n",
    "infcon_d = 41.44*1e6*1e3\n",
    "vrad = 6051.8*1e3\n",
    "erad = 6371.0*1e3"
   ]
  },
  {
   "cell_type": "code",
   "execution_count": 37,
   "metadata": {},
   "outputs": [],
   "source": [
    "# # angles\n",
    "subrdr_lat = -9.2\n",
    "subrdr_lon = 338\n",
    "roi_lat = 15.6 \n",
    "roi_lon = 14.8\n",
    "delta_ang = np.cos(np.sin(np.deg2rad(subrdr_lat))*np.sin(np.deg2rad(roi_lat)) + \\\n",
    "                   np.cos(np.deg2rad(subrdr_lat))*np.cos(np.deg2rad(roi_lat))*np.cos(np.deg2rad(subrdr_lon-roi_lon)))"
   ]
  },
  {
   "cell_type": "code",
   "execution_count": 38,
   "metadata": {},
   "outputs": [
    {
     "name": "stdout",
     "output_type": "stream",
     "text": [
      "Beam angle =  0.006301773283435751\n",
      "Incidence angle =  24.806301773283433\n"
     ]
    }
   ],
   "source": [
    "# #  calculated distances\n",
    "# # distance between eartg and venus\n",
    "D = infcon_d - vrad - erad\n",
    "# # distance between sub_rdr and roi on the surface\n",
    "d = vrad * delta_ang\n",
    "beam_ang = np.rad2deg(np.arctan(d/D))\n",
    "inc_ang = beam_ang + (roi_lat - subrdr_lat)\n",
    "\n",
    "print(\"Beam angle = \", beam_ang)\n",
    "print(\"Incidence angle = \", inc_ang)"
   ]
  },
  {
   "cell_type": "markdown",
   "metadata": {},
   "source": [
    "References:\n",
    "1. https://nssdc.gsfc.nasa.gov/planetary/factsheet/venusfact.html\n",
    "2. Small angle approximation\n",
    "3. Carter et al. (2006)"
   ]
  },
  {
   "cell_type": "markdown",
   "metadata": {},
   "source": [
    "# Angles:\n",
    "Subradar point 1999: 8.8 N, 332 E\n",
    "\n",
    "Subradar point 2001: 9.2 S, 338 E\n",
    "\n",
    "Lat / lon locations:\n",
    "\n",
    "I1 - 15.6 N, 14.8 E\n",
    "\n",
    "I2 - 14.8 N, 16.7 E\n",
    "\n",
    "Hathor - -37.8 S, -35.7 W\n",
    "\n",
    "Innini - -34.5, -31.7"
   ]
  },
  {
   "cell_type": "code",
   "execution_count": null,
   "metadata": {},
   "outputs": [],
   "source": []
  }
 ],
 "metadata": {
  "kernelspec": {
   "display_name": "Python 3",
   "language": "python",
   "name": "python3"
  },
  "language_info": {
   "codemirror_mode": {
    "name": "ipython",
    "version": 3
   },
   "file_extension": ".py",
   "mimetype": "text/x-python",
   "name": "python",
   "nbconvert_exporter": "python",
   "pygments_lexer": "ipython3",
   "version": "3.7.4"
  }
 },
 "nbformat": 4,
 "nbformat_minor": 4
}
