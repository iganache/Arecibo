{
 "cells": [
  {
   "cell_type": "code",
   "execution_count": 1,
   "metadata": {},
   "outputs": [],
   "source": [
    "import numpy as np\n",
    "import matplotlib.pyplot as plt\n",
    "import rasterio\n",
    "from rasterio.transform import Affine\n",
    "from rasterio.enums import Resampling\n",
    "import pandas as pd\n",
    "from scipy.optimize import curve_fit\n",
    "\n",
    "from cmcrameri import cm"
   ]
  },
  {
   "cell_type": "code",
   "execution_count": 22,
   "metadata": {},
   "outputs": [],
   "source": [
    "file = \"Sudenitsa_altrad_AO2015.csv\"\n",
    "df = pd.read_csv(file)\n",
    "df = df[df[\"emis\"]>0]\n",
    "df = df.sort_values(by=['pradius'])"
   ]
  },
  {
   "cell_type": "code",
   "execution_count": 24,
   "metadata": {},
   "outputs": [
    {
     "name": "stdout",
     "output_type": "stream",
     "text": [
      "Index(['FID', 'orbit', 'footprint', 'lat', 'lon', 'pradius', 'rms_slope',\n",
      "       'ref', 'ref_corr', 'emis', 'oc2015', 'sc2015', 'cpr2015', 'cpr2015_n'],\n",
      "      dtype='object')\n",
      "[ 1.28410000e+04  1.86400000e+03 -3.41000000e+02  3.61284600e+01\n",
      "  2.65320130e+02  6.04635250e+03  7.42228270e+00  1.73876610e-01\n",
      "  0.00000000e+00  9.10543978e-01  1.30388999e+00  6.34826994e+00\n",
      "  8.45687985e-01  2.10347995e-01]\n"
     ]
    }
   ],
   "source": [
    "print(df.columns)\n",
    "data = df.to_numpy()\n",
    "print(data[0])"
   ]
  },
  {
   "cell_type": "code",
   "execution_count": 86,
   "metadata": {},
   "outputs": [
    {
     "name": "stdout",
     "output_type": "stream",
     "text": [
      "6046.3525 6059.3223 [6046 6047 6048 6049 6050 6051 6052 6053 6054 6055 6056 6057 6058 6059]\n"
     ]
    }
   ],
   "source": [
    "elev_min = np.min(data[:,5])\n",
    "elev_max = np.max(data[:,5])\n",
    "elev_range = np.arange(int(elev_min), int(elev_max)+1, 1)\n",
    "print(elev_min,elev_max, elev_range)"
   ]
  },
  {
   "cell_type": "code",
   "execution_count": 87,
   "metadata": {},
   "outputs": [
    {
     "name": "stdout",
     "output_type": "stream",
     "text": [
      "(33046, 14)\n",
      "[[0. 0. 0. 0. 0. 0. 0. 0.]\n",
      " [0. 0. 0. 0. 0. 0. 0. 0.]\n",
      " [0. 0. 0. 0. 0. 0. 0. 0.]\n",
      " [0. 0. 0. 0. 0. 0. 0. 0.]\n",
      " [0. 0. 0. 0. 0. 0. 0. 0.]\n",
      " [0. 0. 0. 0. 0. 0. 0. 0.]\n",
      " [0. 0. 0. 0. 0. 0. 0. 0.]\n",
      " [0. 0. 0. 0. 0. 0. 0. 0.]\n",
      " [0. 0. 0. 0. 0. 0. 0. 0.]\n",
      " [0. 0. 0. 0. 0. 0. 0. 0.]\n",
      " [0. 0. 0. 0. 0. 0. 0. 0.]\n",
      " [0. 0. 0. 0. 0. 0. 0. 0.]\n",
      " [0. 0. 0. 0. 0. 0. 0. 0.]\n",
      " [0. 0. 0. 0. 0. 0. 0. 0.]]\n"
     ]
    }
   ],
   "source": [
    "print(data.shape)\n",
    "mean_data = np.zeros((len(elev_range-1), 8), dtype = np.float32)\n",
    "stdev_data = np.zeros_like(mean_data)\n",
    "print(mean_data)"
   ]
  },
  {
   "cell_type": "code",
   "execution_count": 88,
   "metadata": {},
   "outputs": [
    {
     "name": "stdout",
     "output_type": "stream",
     "text": [
      "6047 0\n",
      "6048 1\n",
      "(1, 8)\n",
      "6049 15\n",
      "(15, 8)\n",
      "6050 73\n",
      "(73, 8)\n",
      "6051 1139\n",
      "(1139, 8)\n",
      "6052 8621\n",
      "(8621, 8)\n",
      "6053 19566\n",
      "(19566, 8)\n",
      "6054 26105\n",
      "(26105, 8)\n",
      "6055 30741\n",
      "(30741, 8)\n",
      "6056 32819\n",
      "(32819, 8)\n",
      "6057 33030\n",
      "(33030, 8)\n",
      "6058 33036\n",
      "(33036, 8)\n",
      "6059 33041\n",
      "(33041, 8)\n"
     ]
    }
   ],
   "source": [
    "min_idx = 0\n",
    "for i in range(len(elev_range)):\n",
    "    try:\n",
    "        e = elev_range[i+1]\n",
    "    except:\n",
    "        break\n",
    " \n",
    "    max_idx = np.argmax(np.where(data[:,5]<e))\n",
    "    print(e, max_idx)\n",
    "    if (max_idx - min_idx != 0) | (min_idx != 0):\n",
    "        temp_data = data[min_idx:max_idx, 6:]\n",
    "        print(temp_data.shape)\n",
    "        mean_data[i, :] = np.mean(temp_data, axis = 0) \n",
    "        stdev_data[i, :] = np.std(temp_data, axis = 0) "
   ]
  },
  {
   "cell_type": "code",
   "execution_count": 92,
   "metadata": {},
   "outputs": [
    {
     "name": "stdout",
     "output_type": "stream",
     "text": [
      "(14,) (14, 8)\n"
     ]
    }
   ],
   "source": [
    "print(elev_range.shape, mean_data.shape)"
   ]
  },
  {
   "cell_type": "code",
   "execution_count": 108,
   "metadata": {},
   "outputs": [
    {
     "data": {
      "image/png": "[encoded data removed]",
      "text/plain": [
       "<Figure size 1440x432 with 1 Axes>"
      ]
     },
     "metadata": {
      "needs_background": "light"
     },
     "output_type": "display_data"
    }
   ],
   "source": [
    "fig, ax = plt.subplots(nrows=1, ncols=1)\n",
    "fig.set_size_inches(20,6)\n",
    "cmap = cm.hawaii\n",
    "\n",
    "ax.errorbar(elev_range[2:-1], mean_data[2:-1,-3], yerr= stdev_data[2:-1,-3], fmt='o')\n",
    "plt.show()"
   ]
  },
  {
   "cell_type": "code",
   "execution_count": null,
   "metadata": {},
   "outputs": [],
   "source": [
    "fig, ax = plt.subplots(nrows=1, ncols=3)\n",
    "fig.set_size_inches(20,6)\n",
    "cmap = cm.hawaii\n",
    "\n",
    "df.plot.scatter('emissivity', 'pradius', c=\"rms_slope\", cmap=cmap, alpha = 0.6, s=5,  ax = ax[0])\n",
    "df.plot.scatter('reflectivity', 'pradius', cmap=cmap, alpha = 0.6, s=5,  ax = ax[1])\n",
    "df.plot.scatter('rms_slope', 'pradius', cmap=cmap, alpha = 0.6, s=5,  ax = ax[2])\n",
    "ax[1].set_xlim(0,0.6)\n",
    "plt.title(\"sudenitsa\")\n",
    "plt.show()"
   ]
  },
  {
   "cell_type": "code",
   "execution_count": null,
   "metadata": {},
   "outputs": [],
   "source": [
    "def exp_fit(x,a,b,c):\n",
    "    # return a*x**2 + b*x + c\n",
    "    # return a*np.exp(-b*x)\n",
    "    return (a)/(1+b*np.exp(c*x))\n",
    "\n",
    "prad = df.pradius.to_numpy() - 6051.8\n",
    "emis = df.emissivity.to_numpy()\n",
    "popt, pcov = curve_fit(exp_fit, prad, emis)\n",
    "print(popt, pcov)\n",
    "x = np.linspace(-3, 6, 100)\n",
    "y = exp_fit(x, *popt)\n",
    "plt.scatter(prad, emis, alpha = 0.6, s=5)\n",
    "# plt.plot(prad, exp_fit(prad, *popt), 'k')\n",
    "plt.plot(x, y, 'k')\n",
    "plt.show()"
   ]
  },
  {
   "cell_type": "code",
   "execution_count": null,
   "metadata": {},
   "outputs": [],
   "source": [
    "plt.scatter(prad, emis / exp_fit(prad, *popt), c=df.rms_slope, cmap=cm.tokyo, alpha = 0.6, s=5)\n",
    "plt.colorbar()\n",
    "plt.ylim(0.7,1.2)"
   ]
  },
  {
   "cell_type": "code",
   "execution_count": null,
   "metadata": {},
   "outputs": [],
   "source": []
  },
  {
   "cell_type": "code",
   "execution_count": null,
   "metadata": {},
   "outputs": [],
   "source": []
  }
 ],
 "metadata": {
  "kernelspec": {
   "display_name": "radar",
   "language": "python",
   "name": "radar"
  },
  "language_info": {
   "codemirror_mode": {
    "name": "ipython",
    "version": 3
   },
   "file_extension": ".py",
   "mimetype": "text/x-python",
   "name": "python",
   "nbconvert_exporter": "python",
   "pygments_lexer": "ipython3",
   "version": "3.7.5"
  }
 },
 "nbformat": 4,
 "nbformat_minor": 4
}
